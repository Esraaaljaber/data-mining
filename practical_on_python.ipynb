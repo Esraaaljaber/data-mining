{
  "nbformat": 4,
  "nbformat_minor": 0,
  "metadata": {
    "colab": {
      "provenance": [],
      "authorship_tag": "ABX9TyOro0Nv2Ra+iVe9/fD20ZHW",
      "include_colab_link": true
    },
    "kernelspec": {
      "name": "python3",
      "display_name": "Python 3"
    },
    "language_info": {
      "name": "python"
    }
  },
  "cells": [
    {
      "cell_type": "markdown",
      "metadata": {
        "id": "view-in-github",
        "colab_type": "text"
      },
      "source": [
        "<a href=\"https://colab.research.google.com/github/Esraaaljaber/data-mining/blob/main/practical_on_python.ipynb\" target=\"_parent\"><img src=\"https://colab.research.google.com/assets/colab-badge.svg\" alt=\"Open In Colab\"/></a>"
      ]
    },
    {
      "cell_type": "code",
      "execution_count": null,
      "metadata": {
        "id": "G3EMleA-srZE"
      },
      "outputs": [],
      "source": []
    },
    {
      "cell_type": "markdown",
      "source": [
        "**Fundemetal pytion **\n",
        "\n",
        "\n",
        "*   Basic Math\n",
        "*   Booleans & Variable Assignment\n",
        "*   Function\n",
        "*   String\n",
        "\n",
        "\n",
        "\n"
      ],
      "metadata": {
        "id": "qYIJQc6RszIS"
      }
    },
    {
      "source": [
        "# Basic arithmetic operation\n",
        "\n",
        "a = 10\n",
        "b = 5\n",
        "sum= a+b\n",
        "differenc = a-b\n",
        "product =a*b\n",
        "division =a/b\n",
        "\n",
        "print(\"SUm: \", sum)\n",
        "print(\"Difference: \", differenc)\n",
        "print(\"pruduct: \", product)\n",
        "print(\"division: \", division)"
      ],
      "cell_type": "code",
      "metadata": {
        "colab": {
          "base_uri": "https://localhost:8080/"
        },
        "id": "-3vpeF6uw5kp",
        "outputId": "7c538bcb-5a82-4917-cf26-b1c810dd2cec"
      },
      "execution_count": null,
      "outputs": [
        {
          "output_type": "stream",
          "name": "stdout",
          "text": [
            "SUm:  15\n",
            "Difference:  5\n",
            "pruduct:  50\n",
            "division:  2.0\n"
          ]
        }
      ]
    },
    {
      "cell_type": "code",
      "source": [
        "print(f\"The sum of the tow number 10,5 is 15\")"
      ],
      "metadata": {
        "colab": {
          "base_uri": "https://localhost:8080/"
        },
        "id": "bRej4RSKw9W5",
        "outputId": "7f8e9b13-5e67-4cc3-cd19-fd808efbeb32"
      },
      "execution_count": null,
      "outputs": [
        {
          "output_type": "stream",
          "name": "stdout",
          "text": [
            "The sum of the tow number 10,5 is 15\n"
          ]
        }
      ]
    },
    {
      "cell_type": "code",
      "source": [
        "x=13//2\n",
        "print(x)\n",
        "y=13%2\n",
        "print(y)"
      ],
      "metadata": {
        "colab": {
          "base_uri": "https://localhost:8080/"
        },
        "id": "dnSbKhHGxepV",
        "outputId": "5d41ade1-5b3b-4300-8297-8aee0fd2a634"
      },
      "execution_count": null,
      "outputs": [
        {
          "output_type": "stream",
          "name": "stdout",
          "text": [
            "6\n",
            "1\n"
          ]
        }
      ]
    },
    {
      "cell_type": "code",
      "source": [
        "#Boolean variable and comparisons\n",
        "\n",
        "x=10\n",
        "y=5\n",
        "is_greater = x>y\n",
        "is_equal = x=y\n",
        "is_not_equal = x!=y\n",
        "\n",
        "print( \"Is x greater than t ?\" , is_greater)\n",
        "print(\"Is x equal y?\",is_equal)\n",
        "print( \" Is x not equal to y ? \" ,is_not_equal)\n",
        "\n",
        "#variable assignment\n",
        "\n",
        "name=\"Israa\"\n",
        "age=29\n",
        "is_programmer= True\n",
        "\n",
        "print (f\"{name}s age is {age} he is a programmer is {is_programmer}\")"
      ],
      "metadata": {
        "colab": {
          "base_uri": "https://localhost:8080/"
        },
        "id": "TWa8cXedyQAA",
        "outputId": "9a93291b-f3c7-4d40-fe36-f24ef636e075"
      },
      "execution_count": null,
      "outputs": [
        {
          "output_type": "stream",
          "name": "stdout",
          "text": [
            "Is x greater than t ? True\n",
            "Is x equal y? 5\n",
            " Is x not equal to y ?  False\n",
            "Israas age is 29 he is a programmer is True\n"
          ]
        }
      ]
    },
    {
      "source": [
        "# Defining and using a function\n",
        "def greet(name):\n",
        "    return\"hello,\" + name + \"!\"\n",
        "greet(\"Israa\")\n",
        "\n",
        "my_name =input(\"What is your name? \")\n",
        "greet(my_name)"
      ],
      "cell_type": "code",
      "metadata": {
        "colab": {
          "base_uri": "https://localhost:8080/",
          "height": 52
        },
        "id": "atWcvF4-2A9u",
        "outputId": "3ec33f36-4247-4842-86a0-3d75c10b9d43"
      },
      "execution_count": null,
      "outputs": [
        {
          "name": "stdout",
          "output_type": "stream",
          "text": [
            "What is your name? Israa\n"
          ]
        },
        {
          "output_type": "execute_result",
          "data": {
            "text/plain": [
              "'hello,Israa!'"
            ],
            "application/vnd.google.colaboratory.intrinsic+json": {
              "type": "string"
            }
          },
          "metadata": {},
          "execution_count": 46
        }
      ]
    },
    {
      "source": [
        "#working with string\n",
        "\n",
        "def add_numbers(a,b):\n",
        "    return a+b\n",
        "a=int(input(\"inter first number: \"))\n",
        "b=int(input(\"inter second number: \"))\n",
        "addition_value = add_numbers(a,b)\n",
        "\n",
        "# Corrected the typo in the variable name here:\n",
        "print(f\"the result of addition for {a},{b} is {addition_value}\")"
      ],
      "cell_type": "code",
      "metadata": {
        "colab": {
          "base_uri": "https://localhost:8080/"
        },
        "id": "nggchx_X5IAR",
        "outputId": "272ab1f5-1d20-4eeb-8546-5e8e6391bbcc"
      },
      "execution_count": null,
      "outputs": [
        {
          "output_type": "stream",
          "name": "stdout",
          "text": [
            "inter first number: 5\n",
            "inter second number: 7\n",
            "the result of addition for 5,7 is 12\n"
          ]
        }
      ]
    },
    {
      "cell_type": "code",
      "source": [
        "#Working with string\n",
        "\n",
        "message=\"Hello , Word\"\n",
        "length =len(message)\n",
        "uppercase = message.upper()\n",
        "lowercase = message.lower()\n",
        "substring=message[7:12]\n",
        "\n",
        "print(\" Original message:\",message)\n",
        "print(\"The length is: \", length )\n",
        "print(\"upper case: \", uppercase)\n",
        "print(\"lowe case :\", lowercase)\n",
        "print(\"part of the message is :\", substring)"
      ],
      "metadata": {
        "colab": {
          "base_uri": "https://localhost:8080/"
        },
        "id": "Q2_GosTo5Oqo",
        "outputId": "9f4dd3c0-5984-4936-94af-99abdc63d8a9"
      },
      "execution_count": null,
      "outputs": [
        {
          "output_type": "stream",
          "name": "stdout",
          "text": [
            " Original message: Hello , Word\n",
            "The length is:  12\n",
            "upper case:  HELLO , WORD\n",
            "lowe case : hello , word\n",
            "part of the message is :  Word\n"
          ]
        }
      ]
    },
    {
      "cell_type": "code",
      "source": [
        "#Basic input example\n",
        "\n",
        "Last = input(\"Enter the last name :\")\n",
        "First = input(\" Enter the first name :\")\n",
        "\n",
        "print(f\"{Last},{First}\")"
      ],
      "metadata": {
        "colab": {
          "base_uri": "https://localhost:8080/"
        },
        "id": "wXU4TIF47OQn",
        "outputId": "233f327f-2c75-4779-a9d5-1706d7fb84d6"
      },
      "execution_count": null,
      "outputs": [
        {
          "output_type": "stream",
          "name": "stdout",
          "text": [
            "Enter the last name :Aljaber\n",
            " Enter the first name :Israa\n",
            "Aljaber,Israa\n"
          ]
        }
      ]
    },
    {
      "cell_type": "code",
      "source": [
        "#Numeric input example\n",
        "age=int(input(\"Enter your age :\"))\n",
        "print(\"you will be \" ,age+1 , \"years old next year.\")\n"
      ],
      "metadata": {
        "colab": {
          "base_uri": "https://localhost:8080/"
        },
        "id": "K3YxdtHf8jvI",
        "outputId": "0b64b04b-817d-4760-be4b-f18771e451a4"
      },
      "execution_count": null,
      "outputs": [
        {
          "output_type": "stream",
          "name": "stdout",
          "text": [
            "Enter your age :25\n",
            "you will be  26 years old next year.\n"
          ]
        }
      ]
    },
    {
      "source": [
        "#Calculations with input\n",
        "\n",
        "num1 =float(input(\"Enter a number:\"))\n",
        "num2 =float(input(\"Enter another number:\"))\n",
        "sum_result= num1 + num2\n",
        "print(\"sum:\",sum_result)"
      ],
      "cell_type": "code",
      "metadata": {
        "colab": {
          "base_uri": "https://localhost:8080/"
        },
        "id": "A_nEAPXx-OX4",
        "outputId": "0bf3f159-ec35-4402-e6da-6a64df2c5cf4"
      },
      "execution_count": null,
      "outputs": [
        {
          "output_type": "stream",
          "name": "stdout",
          "text": [
            "Enter a number:6\n",
            "Enter another number:10\n",
            "sum: 16.0\n"
          ]
        }
      ]
    },
    {
      "cell_type": "code",
      "source": [
        "#string concatenation with input\n",
        "\n",
        "city = input(\"Enter your city : \")\n",
        "country = input(\"Enter your cantry: \")\n",
        "location = city +\",\" + country\n",
        "print(\"you are in :\",location)\n"
      ],
      "metadata": {
        "colab": {
          "base_uri": "https://localhost:8080/"
        },
        "id": "ONEAJF-e-S3a",
        "outputId": "ecdf8855-bd8f-45c8-801d-a4ed54747eff"
      },
      "execution_count": null,
      "outputs": [
        {
          "output_type": "stream",
          "name": "stdout",
          "text": [
            "Enter your city : haqil\n",
            "Enter your cantry: saudi \n",
            "you are in : haqil,saudi \n"
          ]
        }
      ]
    },
    {
      "source": [
        "# Multi inputs\n",
        "while True:\n",
        "    try:\n",
        "        name, age = input(\"Enter your name and age separated by space: \").split()\n",
        "        # If the input is valid, break the loop\n",
        "        break\n",
        "    except ValueError:\n",
        "        print(\"Invalid input. Please enter your name and age separated by a space.\")\n",
        "\n",
        "print(f\"My name is {name} and my age is {age}\")"
      ],
      "cell_type": "code",
      "metadata": {
        "colab": {
          "base_uri": "https://localhost:8080/"
        },
        "id": "roq7EaZmA482",
        "outputId": "97e0f1f8-dbae-4d94-c992-57183dfcf225"
      },
      "execution_count": null,
      "outputs": [
        {
          "output_type": "stream",
          "name": "stdout",
          "text": [
            "Enter your name and age separated by space: Israa 25\n",
            "My name is Israa and my age is 25\n"
          ]
        }
      ]
    }
  ]
}